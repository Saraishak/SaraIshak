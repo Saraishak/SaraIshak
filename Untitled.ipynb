{
 "cells": [
  {
   "cell_type": "code",
   "execution_count": 1,
   "id": "6a681cef-d641-4632-bf31-1e866880c4e4",
   "metadata": {},
   "outputs": [
    {
     "name": "stdout",
     "output_type": "stream",
     "text": [
      "Requirement already satisfied: pandas in c:\\users\\sara ishak\\anaconda3\\lib\\site-packages (2.2.1)\n",
      "Requirement already satisfied: numpy in c:\\users\\sara ishak\\anaconda3\\lib\\site-packages (1.26.4)\n",
      "Requirement already satisfied: scipy in c:\\users\\sara ishak\\anaconda3\\lib\\site-packages (1.13.1)\n",
      "Requirement already satisfied: ipywidgets in c:\\users\\sara ishak\\anaconda3\\lib\\site-packages (8.1.3)\n",
      "Requirement already satisfied: python-dateutil>=2.8.2 in c:\\users\\sara ishak\\anaconda3\\lib\\site-packages (from pandas) (2.8.2)\n",
      "Requirement already satisfied: pytz>=2020.1 in c:\\users\\sara ishak\\anaconda3\\lib\\site-packages (from pandas) (2023.3.post1)\n",
      "Requirement already satisfied: tzdata>=2022.7 in c:\\users\\sara ishak\\anaconda3\\lib\\site-packages (from pandas) (2023.3)\n",
      "Requirement already satisfied: comm>=0.1.3 in c:\\users\\sara ishak\\anaconda3\\lib\\site-packages (from ipywidgets) (0.2.2)\n",
      "Requirement already satisfied: ipython>=6.1.0 in c:\\users\\sara ishak\\anaconda3\\lib\\site-packages (from ipywidgets) (8.20.0)\n",
      "Requirement already satisfied: traitlets>=4.3.1 in c:\\users\\sara ishak\\anaconda3\\lib\\site-packages (from ipywidgets) (5.7.1)\n",
      "Requirement already satisfied: widgetsnbextension~=4.0.11 in c:\\users\\sara ishak\\anaconda3\\lib\\site-packages (from ipywidgets) (4.0.11)\n",
      "Requirement already satisfied: jupyterlab-widgets~=3.0.11 in c:\\users\\sara ishak\\anaconda3\\lib\\site-packages (from ipywidgets) (3.0.11)\n",
      "Requirement already satisfied: decorator in c:\\users\\sara ishak\\anaconda3\\lib\\site-packages (from ipython>=6.1.0->ipywidgets) (5.1.1)\n",
      "Requirement already satisfied: jedi>=0.16 in c:\\users\\sara ishak\\anaconda3\\lib\\site-packages (from ipython>=6.1.0->ipywidgets) (0.18.1)\n",
      "Requirement already satisfied: matplotlib-inline in c:\\users\\sara ishak\\anaconda3\\lib\\site-packages (from ipython>=6.1.0->ipywidgets) (0.1.6)\n",
      "Requirement already satisfied: prompt-toolkit<3.1.0,>=3.0.41 in c:\\users\\sara ishak\\anaconda3\\lib\\site-packages (from ipython>=6.1.0->ipywidgets) (3.0.43)\n",
      "Requirement already satisfied: pygments>=2.4.0 in c:\\users\\sara ishak\\anaconda3\\lib\\site-packages (from ipython>=6.1.0->ipywidgets) (2.15.1)\n",
      "Requirement already satisfied: stack-data in c:\\users\\sara ishak\\anaconda3\\lib\\site-packages (from ipython>=6.1.0->ipywidgets) (0.2.0)\n",
      "Requirement already satisfied: colorama in c:\\users\\sara ishak\\anaconda3\\lib\\site-packages (from ipython>=6.1.0->ipywidgets) (0.4.6)\n",
      "Requirement already satisfied: six>=1.5 in c:\\users\\sara ishak\\anaconda3\\lib\\site-packages (from python-dateutil>=2.8.2->pandas) (1.16.0)\n",
      "Requirement already satisfied: parso<0.9.0,>=0.8.0 in c:\\users\\sara ishak\\anaconda3\\lib\\site-packages (from jedi>=0.16->ipython>=6.1.0->ipywidgets) (0.8.3)\n",
      "Requirement already satisfied: wcwidth in c:\\users\\sara ishak\\anaconda3\\lib\\site-packages (from prompt-toolkit<3.1.0,>=3.0.41->ipython>=6.1.0->ipywidgets) (0.2.5)\n",
      "Requirement already satisfied: executing in c:\\users\\sara ishak\\anaconda3\\lib\\site-packages (from stack-data->ipython>=6.1.0->ipywidgets) (0.8.3)\n",
      "Requirement already satisfied: asttokens in c:\\users\\sara ishak\\anaconda3\\lib\\site-packages (from stack-data->ipython>=6.1.0->ipywidgets) (2.0.5)\n",
      "Requirement already satisfied: pure-eval in c:\\users\\sara ishak\\anaconda3\\lib\\site-packages (from stack-data->ipython>=6.1.0->ipywidgets) (0.2.2)\n"
     ]
    },
    {
     "data": {
      "application/vnd.jupyter.widget-view+json": {
       "model_id": "155df1a385274019a05bff46ad863322",
       "version_major": 2,
       "version_minor": 0
      },
      "text/plain": [
       "VBox(children=(IntSlider(value=3, description='Arrival Rate:', max=10, min=1), IntSlider(value=2, description=…"
      ]
     },
     "metadata": {},
     "output_type": "display_data"
    },
    {
     "data": {
      "application/vnd.jupyter.widget-view+json": {
       "model_id": "d62c742724a54851ad4e0c938996f714",
       "version_major": 2,
       "version_minor": 0
      },
      "text/plain": [
       "Output()"
      ]
     },
     "metadata": {},
     "output_type": "display_data"
    }
   ],
   "source": [
    "!pip install pandas numpy scipy ipywidgets\n",
    "import pandas as pd\n",
    "import numpy as np\n",
    "import scipy.stats as stats\n",
    "import ipywidgets as widgets\n",
    "from IPython.display import display, HTML\n",
    "\n",
    "# Define the simulation function\n",
    "def run_simulation(arrival_rate, num_servers, departure_rate):\n",
    "    # Initialize lists\n",
    "    Arrival = [stats.expon(scale=arrival_rate).rvs()]\n",
    "    Length_Of_Service = []\n",
    "    Departure = []\n",
    "    Time_Of_Service = []\n",
    "    Length_Of_Wait = []\n",
    "\n",
    "    # Generate arrival times\n",
    "    for i in range(1, 100):\n",
    "        next_arrival = Arrival[-1] + stats.expon(scale=arrival_rate).rvs()\n",
    "        Arrival.append(next_arrival)\n",
    "\n",
    "    # Process each customer\n",
    "    for i in range(100):\n",
    "        Length_Of_Service.append(stats.expon(scale=departure_rate).rvs())\n",
    "\n",
    "        if i < num_servers:\n",
    "            service_start_time = Arrival[i]\n",
    "        else:\n",
    "            if len(Departure) < num_servers:\n",
    "                service_start_time = Arrival[i]\n",
    "            else:\n",
    "                Chrono_Departures = sorted(Departure)\n",
    "                service_start_time = max(Arrival[i], Chrono_Departures[-num_servers])\n",
    "\n",
    "        Time_Of_Service.append(service_start_time)\n",
    "        departure_time = service_start_time + Length_Of_Service[i]\n",
    "        Departure.append(departure_time)\n",
    "        wait_time = service_start_time - Arrival[i]\n",
    "        Length_Of_Wait.append(wait_time)\n",
    "\n",
    "    # Create DataFrame\n",
    "    data = {\n",
    "        'Arrival': Arrival,\n",
    "        'Service time': Time_Of_Service,\n",
    "        'Departure': Departure\n",
    "    }\n",
    "\n",
    "    df = pd.DataFrame(data)\n",
    "\n",
    "    # Define a function for conditional formatting\n",
    "    def highlight_service_time(val):\n",
    "        if val in df['Arrival'].values:\n",
    "            return 'color: red'\n",
    "        else:\n",
    "            return ''\n",
    "\n",
    "    # Apply styling using apply\n",
    "    styled_df = df.head(15).style.apply(lambda x: [highlight_service_time(val) for val in x], subset=['Service time'])\n",
    "\n",
    "    # Convert the styled DataFrame to HTML\n",
    "    html = styled_df.to_html()  # Use to_html() to get HTML representation\n",
    "    \n",
    "    return html\n",
    "\n",
    "# Define the sliders with updated labels\n",
    "arrival_rate_slider = widgets.IntSlider(value=3, min=1, max=10, step=1, description='Arrival Rate:')\n",
    "num_servers_slider = widgets.IntSlider(value=2, min=1, max=5, step=1, description='Number of Servers:')\n",
    "departure_rate_slider = widgets.IntSlider(value=8, min=1, max=60, step=1, description='Departure Rate:')\n",
    "\n",
    "# Define the interactive function\n",
    "def update_simulation(arrival_rate, num_servers, departure_rate):\n",
    "    html = run_simulation(arrival_rate, num_servers, departure_rate)\n",
    "    display(HTML(html))\n",
    "\n",
    "# Use interactive widgets with updated dictionary keys\n",
    "ui = widgets.VBox([arrival_rate_slider, num_servers_slider, departure_rate_slider])\n",
    "out = widgets.interactive_output(update_simulation, {\n",
    "    'arrival_rate': arrival_rate_slider,\n",
    "    'num_servers': num_servers_slider,\n",
    "    'departure_rate': departure_rate_slider\n",
    "})\n",
    "\n",
    "display(ui, out)\n"
   ]
  }
 ],
 "metadata": {
  "kernelspec": {
   "display_name": "Python 3 (ipykernel)",
   "language": "python",
   "name": "python3"
  },
  "language_info": {
   "codemirror_mode": {
    "name": "ipython",
    "version": 3
   },
   "file_extension": ".py",
   "mimetype": "text/x-python",
   "name": "python",
   "nbconvert_exporter": "python",
   "pygments_lexer": "ipython3",
   "version": "3.11.9"
  }
 },
 "nbformat": 4,
 "nbformat_minor": 5
}
